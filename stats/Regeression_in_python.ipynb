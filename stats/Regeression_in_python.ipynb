{
  "nbformat": 4,
  "nbformat_minor": 0,
  "metadata": {
    "colab": {
      "provenance": [],
      "authorship_tag": "ABX9TyNHjyfyv/GfA75r21S/h0jW",
      "include_colab_link": true
    },
    "kernelspec": {
      "name": "python3",
      "display_name": "Python 3"
    },
    "language_info": {
      "name": "python"
    }
  },
  "cells": [
    {
      "cell_type": "markdown",
      "metadata": {
        "id": "view-in-github",
        "colab_type": "text"
      },
      "source": [
        "<a href=\"https://colab.research.google.com/github/aaekay/learning/blob/main/stats/Regeression_in_python.ipynb\" target=\"_parent\"><img src=\"https://colab.research.google.com/assets/colab-badge.svg\" alt=\"Open In Colab\"/></a>"
      ]
    },
    {
      "cell_type": "markdown",
      "source": [
        "Generate a random data"
      ],
      "metadata": {
        "id": "JngWcRtWIuZr"
      }
    },
    {
      "cell_type": "code",
      "source": [
        "import numpy as np\n",
        "import pandas as pd"
      ],
      "metadata": {
        "id": "crJ33fWoJOyE"
      },
      "execution_count": 3,
      "outputs": []
    },
    {
      "cell_type": "code",
      "source": [
        "# to get random int\n",
        "np.random.seed(1)\n",
        "\n",
        "y = np.random.randint(0, 100, 20)\n",
        "x = np.array([i for i in range(1, 21)])\n",
        "len(y) == len(a)\n",
        "\n",
        "# we can generate a list of variable with noise\n",
        "y = (10 + np.random.rand(20))*x + 5"
      ],
      "metadata": {
        "id": "NBq8RqrAJ8kL"
      },
      "execution_count": 60,
      "outputs": []
    },
    {
      "cell_type": "code",
      "source": [
        "import matplotlib.pyplot as plt\n",
        "plt.scatter(x, y, color=\"m\", marker = \"o\")\n",
        "plt.xlabel(\"x\")\n",
        "plt.ylabel(\"y\")\n",
        "plt.show()"
      ],
      "metadata": {
        "colab": {
          "base_uri": "https://localhost:8080/",
          "height": 454
        },
        "id": "psTjwlHDM2s7",
        "outputId": "4c0a25ab-65df-4179-d54e-b23024aef5f7"
      },
      "execution_count": 61,
      "outputs": [
        {
          "output_type": "display_data",
          "data": {
            "text/plain": [
              "<Figure size 640x480 with 1 Axes>"
            ],
            "image/png": "[encoded data removed]"
          },
          "metadata": {}
        }
      ]
    },
    {
      "cell_type": "markdown",
      "source": [
        "Lets view our data"
      ],
      "metadata": {
        "id": "rzwk-NGCM1DD"
      }
    },
    {
      "cell_type": "code",
      "source": [
        "##\n",
        "import numpy as np\n",
        "from sklearn.linear_model import LinearRegression\n",
        "x = x.reshape(-1,1)\n",
        "y = y.reshape(-1,1)\n",
        "reg = LinearRegression().fit(x, y)\n",
        "print(reg.score(x,y))\n",
        "print(reg.coef_)\n",
        "print(reg.intercept_)\n"
      ],
      "metadata": {
        "colab": {
          "base_uri": "https://localhost:8080/"
        },
        "id": "x7aubxJHLC2M",
        "outputId": "2dfe22c9-7f2b-495c-86fd-26c2ed0efe39"
      },
      "execution_count": 62,
      "outputs": [
        {
          "output_type": "stream",
          "name": "stdout",
          "text": [
            "0.9955675056053058\n",
            "[[10.52120162]]\n",
            "[4.85646138]\n"
          ]
        }
      ]
    },
    {
      "cell_type": "markdown",
      "source": [
        "### We can also do this by analytical method"
      ],
      "metadata": {
        "id": "ZrFL-nnpR2-t"
      }
    },
    {
      "cell_type": "code",
      "source": [],
      "metadata": {
        "id": "F0_dxczFR2q3"
      },
      "execution_count": null,
      "outputs": []
    }
  ]
}