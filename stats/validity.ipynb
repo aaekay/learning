{
 "cells": [
  {
   "cell_type": "markdown",
   "metadata": {},
   "source": [
    "# Properties of a test\n",
    "### Validity\n",
    "validity is defined as the property of being true, corrent and in conformity with reality. It can be subdivided into different levels.\n",
    "\n",
    "| S no. | types of validity | desscritpion |\n",
    "| ------| ------------------| -------------|\n",
    "| 1     |     face validity | address user's opinion about functionality and realism of a test|\n",
    "| 2     | content vailidity | content of the test is suited to measure what it is supposed to measure |\n",
    "| 3     | construct validity| suited to measured the trait it is supposed to measure |\n",
    "| 4     | concurrent validity| comparison of test to a standard or another test that measures the same trait             |\n",
    "| 5     | predictive validity| extent to which a test predicts future perfomance |\n",
    "\n",
    "### Reliability\n",
    "Reliability refers to whether a test is consistent in its outcome, which also affects validity.\n",
    "\n",
    "Frequently used items for reliability are:\n",
    "| internal consistency | inter rater relliabiliy | inter test reliability |\n",
    "| -------------------- | ------------------------| ---------------------- |\n",
    "| reflects the correlation between different items of test | agreement of scores of raters testing the same subject | agreement of scores when same test is taken twice | \n",
    "\n",
    "Reliability is represented by a reliability coefficient(0.0 to 1.0)"
   ]
  },
  {
   "cell_type": "code",
   "execution_count": null,
   "metadata": {},
   "outputs": [],
   "source": []
  }
 ],
 "metadata": {
  "language_info": {
   "name": "python"
  },
  "orig_nbformat": 4
 },
 "nbformat": 4,
 "nbformat_minor": 2
}
