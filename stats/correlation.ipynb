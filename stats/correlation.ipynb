{
 "cells": [
  {
   "cell_type": "markdown",
   "metadata": {},
   "source": [
    "# Correlation\n",
    "[![Open In Colab](https://colab.research.google.com/assets/colab-badge.svg)](https://colab.research.google.com/github/aaekay/learning/blob/main/stats/correlation.ipynb)\n",
    "how two variables are related to each other "
   ]
  },
  {
   "cell_type": "markdown",
   "metadata": {},
   "source": [
    "To quantify the correlation, we need to transform the variable to a number that represents its position with respect to the group, say correlation between height and weight. Height of the whole group compared with the weight of the group. if normally distributed we can compare the z scores. \n",
    "\n",
    "1. For perfect positive correlation each individual must have same z score for height and weight.\n",
    "2. For perfect negative correlation, each individual must have same z score in magnitude but opposite in sign.\n",
    "\n",
    "To measure it, correlation coefficient is used( -1 to +1).\n",
    "\n",
    "**Correlation doesnt imply causation**"
   ]
  },
  {
   "cell_type": "markdown",
   "metadata": {},
   "source": [
    "### Pearson correlation\n",
    "1896 paper by Karl Pearson. It's symbolised by 'r' aka Pearson's r aka Pearson's product moment corrlation coefficient. \n",
    "\n",
    "Propety of Pearson's r:\n",
    "1. only measures degree of linear correlation.\n",
    "\n",
    "Disadvantages\n",
    "1. dependent vs independent \n",
    "2. no information regarding slope of the line\n",
    "3. curvilinear realtion are not +1 even though they are completely correlated\n",
    "4. sensitivity to outliers aka bivariate outliers ie it neednot have an extreme value on either variable but the combination must be extreme, "
   ]
  },
  {
   "cell_type": "markdown",
   "metadata": {},
   "source": [
    "Formula for Pearson's r:\n",
    "1. In terms of z scores it is given by:\n",
    "\n",
    "\\begin{equation*}\n",
    "r= \\frac{\\sum{z_x*z_y}}{N}\n",
    "\\end{equation*}\n",
    "\n",
    "Now, for perfect correlation z_x should be equal to z_y so the formula can be rewritten as\n",
    "\\begin{equation*}\n",
    "r= \\frac{\\sum{z_x*z_x}}{N} = \\frac{\\sum{(z_x)^{2}}}{N}\n",
    "\\end{equation*}\n",
    "It is nothing but the variance for a set of z scores and therefore it alway equal to +1. Linear tranformation doesnt change z scores.\n",
    "\n",
    "2. the pearson's r that would be calculated if we measure the entire popluation is known as population correlation coefficient, depicted by $\\rho$ aka rho. r of a truly sample random sample should reflect upon the $\\rho$\n",
    "\n",
    "3. calculable formula\n",
    "\\begin{equation*}\n",
    "r= \\frac{\\sum{z_x*z_y}}{N} = \\frac{\\sum{(\\frac{X - \\mu_x}{\\sigma_x})(\\frac{Y-\\mu_y}{\\sigma_y})}}{N} = \\frac{\\sum{(X - \\mu_x)(Y-\\mu_y)}}{(N)(\\sigma_x)(\\sigma_y)}\n",
    "\\end{equation*}\n",
    "\n",
    "The numerator is covariance"
   ]
  },
  {
   "cell_type": "markdown",
   "metadata": {},
   "source": [
    "Now we will find the pearson correlation coeffecient by python"
   ]
  },
  {
   "cell_type": "code",
   "execution_count": 1,
   "metadata": {},
   "outputs": [],
   "source": [
    "import numpy as np\n",
    "\n",
    "age = np.array([43, 21, 25, 42, 57, 59])\n",
    "gluc_levels = np.array([99, 65, 79, 75, 87, 81])\n"
   ]
  },
  {
   "cell_type": "markdown",
   "metadata": {},
   "source": [
    "The simplest way to picture the relationshiop is scatter plot, always do it to identify outliers and removing them before applyin correlation"
   ]
  },
  {
   "cell_type": "code",
   "execution_count": 2,
   "metadata": {},
   "outputs": [
    {
     "data": {
      "image/png": "[encoded data removed]",
      "text/plain": [
       "<Figure size 432x288 with 1 Axes>"
      ]
     },
     "metadata": {
      "needs_background": "light"
     },
     "output_type": "display_data"
    }
   ],
   "source": [
    "import matplotlib.pyplot as plt\n",
    "plt.scatter(age, gluc_levels)\n",
    "plt.show()"
   ]
  },
  {
   "cell_type": "markdown",
   "metadata": {},
   "source": [
    "Now the formula for pearson coefficient is \n",
    "\\begin{equation*}\n",
    "  r =\n",
    "  \\frac{ \\sum_{i=1}^{n}(x_i-\\bar{x})(y_i-\\bar{y}) }{%\n",
    "        \\sqrt{\\sum_{i=1}^{n}(x_i-\\bar{x})^2}\\sqrt{\\sum_{i=1}^{n}(y_i-\\bar{y})^2}}\n",
    "\\end{equation*}"
   ]
  },
  {
   "cell_type": "code",
   "execution_count": 31,
   "metadata": {},
   "outputs": [],
   "source": [
    "def pearson_corr(a, b):\n",
    "    upper = (len(a)*np.sum(a*b) - np.sum(a)*np.sum(b))\n",
    "    lower = ((len(a)*np.sum(a**2)- (np.sum(a)**2))*(len(a)*np.sum(b**2)- np.sum(b)**2))**0.5\n",
    "    rho = upper/lower\n",
    "    return upper, lower, rho"
   ]
  },
  {
   "cell_type": "code",
   "execution_count": 32,
   "metadata": {},
   "outputs": [
    {
     "name": "stdout",
     "output_type": "stream",
     "text": [
      "(2868, 5413.272577655775, 0.5298089018901744)\n"
     ]
    }
   ],
   "source": [
    "# let's test this function\n",
    "print(pearson_corr(age, gluc_levels))"
   ]
  },
  {
   "cell_type": "markdown",
   "metadata": {},
   "source": [
    "#### Testing pearson's r for significance:\n",
    "\n"
   ]
  },
  {
   "cell_type": "markdown",
   "metadata": {},
   "source": [
    "### Curvilinear correlation"
   ]
  }
 ],
 "metadata": {
  "interpreter": {
   "hash": "227872fd7638373db33c371d97be9b40a3c2203559e72894ef81c1759e881a0a"
  },
  "kernelspec": {
   "display_name": "Python 3.9.5 64-bit ('base': conda)",
   "language": "python",
   "name": "python3"
  },
  "language_info": {
   "codemirror_mode": {
    "name": "ipython",
    "version": 3
   },
   "file_extension": ".py",
   "mimetype": "text/x-python",
   "name": "python",
   "nbconvert_exporter": "python",
   "pygments_lexer": "ipython3",
   "version": "3.9.5"
  },
  "orig_nbformat": 4
 },
 "nbformat": 4,
 "nbformat_minor": 2
}
