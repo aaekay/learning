{
 "cells": [
  {
   "cell_type": "markdown",
   "metadata": {},
   "source": [
    "### Pearson correlation\n",
    "Disadvantages\n",
    "1. dependent vs independent \n",
    "2. no information regarding slope of the line"
   ]
  },
  {
   "cell_type": "markdown",
   "metadata": {},
   "source": [
    "Now we will find the pearson correlation coeffecient by python"
   ]
  },
  {
   "cell_type": "code",
   "execution_count": 19,
   "metadata": {},
   "outputs": [],
   "source": [
    "import numpy as np\n",
    "\n",
    "age = np.array([43, 21, 25, 42, 57, 59])\n",
    "gluc_levels = np.array([99, 65, 79, 75, 87, 81])\n"
   ]
  },
  {
   "cell_type": "markdown",
   "metadata": {},
   "source": [
    "Now the formula for pearson coefficient is \n",
    "\\begin{equation*}\n",
    "  r =\n",
    "  \\frac{ \\sum_{i=1}^{n}(x_i-\\bar{x})(y_i-\\bar{y}) }{%\n",
    "        \\sqrt{\\sum_{i=1}^{n}(x_i-\\bar{x})^2}\\sqrt{\\sum_{i=1}^{n}(y_i-\\bar{y})^2}}\n",
    "\\end{equation*}"
   ]
  },
  {
   "cell_type": "code",
   "execution_count": 31,
   "metadata": {},
   "outputs": [],
   "source": [
    "def pearson_corr(a, b):\n",
    "    upper = (len(a)*np.sum(a*b) - np.sum(a)*np.sum(b))\n",
    "    lower = ((len(a)*np.sum(a**2)- (np.sum(a)**2))*(len(a)*np.sum(b**2)- np.sum(b)**2))**0.5\n",
    "    rho = upper/lower\n",
    "    return upper, lower, rho"
   ]
  },
  {
   "cell_type": "code",
   "execution_count": 32,
   "metadata": {},
   "outputs": [
    {
     "name": "stdout",
     "output_type": "stream",
     "text": [
      "(2868, 5413.272577655775, 0.5298089018901744)\n"
     ]
    }
   ],
   "source": [
    "# let's test this function\n",
    "print(pearson_corr(age, gluc_levels))"
   ]
  }
 ],
 "metadata": {
  "interpreter": {
   "hash": "227872fd7638373db33c371d97be9b40a3c2203559e72894ef81c1759e881a0a"
  },
  "kernelspec": {
   "display_name": "Python 3.9.5 64-bit ('base': conda)",
   "language": "python",
   "name": "python3"
  },
  "language_info": {
   "codemirror_mode": {
    "name": "ipython",
    "version": 3
   },
   "file_extension": ".py",
   "mimetype": "text/x-python",
   "name": "python",
   "nbconvert_exporter": "python",
   "pygments_lexer": "ipython3",
   "version": "3.9.5"
  },
  "orig_nbformat": 4
 },
 "nbformat": 4,
 "nbformat_minor": 2
}
