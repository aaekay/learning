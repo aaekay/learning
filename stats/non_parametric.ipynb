{
 "cells": [
  {
   "cell_type": "markdown",
   "metadata": {},
   "source": [
    "# Non parametric test"
   ]
  },
  {
   "cell_type": "markdown",
   "metadata": {},
   "source": [
    "### Mann Whitney U test\n",
    "equivalent of unpaired two sample t test\n",
    "\n",
    "Assumption of this test:\n",
    "1. dependent variable --- ordinal or continous scale\n",
    "2. independent variable --- two independent categorical groups\n",
    "3. independent observations following the same distribution, it doesnot matter that it follows the same distribution or not\n",
    "\n",
    "### Statistical procedure\n",
    "1. formulate the research question\n",
    "2. make the null hypothesis\n",
    "3. load data and analyse it\n",
    "4. apply the test statistics based on data\n",
    "5. Interpret the results\n",
    "\n"
   ]
  },
  {
   "cell_type": "markdown",
   "metadata": {},
   "source": [
    "#### Research question\n",
    "\n",
    "Let's get a question from research article itself, Statistics in Medicine: Calculating confidence intervals for some non-parametric analyses [link](https://doi.org/10.1136/bmj.296.6634.1454). \n",
    "\n",
    "Consider the data on the globulin fraction of plasma (g/l) in two groups of 10 patients given by Swinscow.\n",
    "A bit about data:\n",
    "1. two groups which are independent categorical groups ie group 1 and group 2\n",
    "2. the data of this group ie the globulin fraction is in continous scale\n",
    "\n",
    "These two groups can represent sampe population like both sample belong to same populaton. Let's suppose one of the group is the treatment group and another group havent received treatment so the group fraction on the average basis should be greater than the other group.\n",
    "Other examples where we can use this test\n",
    "1. pay discrimination b/w gender where pay is the continous scale and independent categorical variable are male and female.\n",
    "\n",
    "The average basis is the property of group which would be used to compare between groups\n",
    "1. may be mean\n",
    "2. median: we would be comparing the estimated median of two population\n",
    "\n",
    "We know what median is, the middle value when we arrange data in an increasing or decreasing order. \n",
    "\n",
    "Here we would use median to represent the group. So, our research question would be median of group 1 and group 2 are not equal."
   ]
  },
  {
   "cell_type": "markdown",
   "metadata": {},
   "source": [
    "#### Null hypothesis\n",
    "The median difference of both group is zero = H0 = two population are equal"
   ]
  },
  {
   "cell_type": "markdown",
   "metadata": {},
   "source": [
    "#### Load the data"
   ]
  },
  {
   "cell_type": "code",
   "execution_count": 92,
   "metadata": {},
   "outputs": [],
   "source": [
    "import numpy as np\n",
    "group_1 = np.array([38, 26, 29, 41, 36, 31, 32, 30, 35, 33])\n",
    "group_2 = np.array([45, 28, 27, 38, 40, 42, 39, 39, 34, 45])"
   ]
  },
  {
   "cell_type": "markdown",
   "metadata": {},
   "source": [
    "#### Analyse the data: Checking assumptions\n",
    "1. dependent variable is oridnal or continous\n",
    "2. independent variable is two groups which are categorical and independent\n",
    "3. diff participant in each group, means all twenty participants are unique\n",
    "4. the two groups are not normally distributed because sample size is too small"
   ]
  },
  {
   "cell_type": "markdown",
   "metadata": {},
   "source": [
    "### Applying the test statistic\n",
    "There are two ways of doing it \n",
    "1. calculate the confidence interval for estimated median of the population\n",
    "2. calculate the confidence interval for the differences of estimated median "
   ]
  },
  {
   "cell_type": "markdown",
   "metadata": {},
   "source": [
    "### Estimate difference of median of the two population\n",
    "Estimate of the median of the population from sample:\n",
    "1. always know the estimate will be in some x percentage generally 95% confidence interval\n",
    "2. there would be upper limit and lower limit for it. \n",
    "\n",
    "\n",
    "Differeneces of the median of two population is estimated by \n",
    "1. the median of all the possible n*m differences. We can do this by arranging them in increasing order \n",
    "See the data in diff, the diff is difference between every value of group 1 and group 2 i.e 100 values"
   ]
  },
  {
   "cell_type": "code",
   "execution_count": 98,
   "metadata": {},
   "outputs": [
    {
     "name": "stdout",
     "output_type": "stream",
     "text": [
      "the median of diff is -5.5\n"
     ]
    }
   ],
   "source": [
    "group_1 = np.sort(group_1)\n",
    "group_2 = np.sort(group_2)\n",
    "diff = np.array([])\n",
    "for i in group_1:\n",
    "    for j in group_2:\n",
    "        diff = np.append(diff, i-j)\n",
    "print(\"the median of diff is\", np.median(diff))\n",
    "# we would shape 1 d array into 2 day array to show the differences \n",
    "#diff_2d= np.reshape(diff, (10,10))\n",
    "#import pandas as pd\n",
    "#print(pd.DataFrame(diff_2d, index = group_1, columns = group_2))"
   ]
  },
  {
   "cell_type": "markdown",
   "metadata": {},
   "source": [
    "We now know the median of differences of value.\n",
    "Now we need to know the differeces of median of the population median:\n",
    "1. since it is estimated from a sample we need to use confidence intervals\n",
    "2. the confidence interval will give a smallest value and largest value in which the esimated mean of the population will lie\n",
    "3. This smallest or largest value would be at the same distance from the either side and it is called K\n",
    "4. So lower limit of the confidence interval will be Kth smallest diff of median and upper limit will be the Kth largest diff of median\n",
    "5. so Kth smallest to Kth largest of the differences will give you 100(1-alpha)% confidence interval.\n",
    "6. How to find this K \n",
    "\n",
    "\\begin{equation*}\n",
    "K = W_\\frac{alpha}{2} - \\frac{n_1(n_1 + 1)}{2} \n",
    "\\end{equation*}\n",
    "\n",
    "6. where W alpha/2 is the percentile of distribution of Mann - Whitney test statistic\n",
    "7. otherwise you can calculate direct K like this\n",
    "\n",
    "\\begin{equation*}\n",
    "K = \\frac{nm}{2} - N_{1-\\frac{alpha}{2}} * \\sqrt{\\frac{nm(n+m+1)}{12}} \n",
    "\\end{equation*}\n",
    "\n",
    "7. when alpha = 0.05 and N_alpha is 1.96 \n",
    "8. therefore the estimate of difference of p"
   ]
  },
  {
   "cell_type": "code",
   "execution_count": 94,
   "metadata": {},
   "outputs": [
    {
     "name": "stdout",
     "output_type": "stream",
     "text": [
      "[-19. -19. -16. -16. -16. -15. -15. -14. -14. -14. -13. -13. -13. -13.\n",
      " -13. -12. -12. -12. -12. -11. -11. -10. -10. -10. -10. -10. -10.  -9.\n",
      "  -9.  -9.  -9.  -9.  -9.  -9.  -8.  -8.  -8.  -8.  -8.  -7.  -7.  -7.\n",
      "  -7.  -7.  -7.  -7.  -6.  -6.  -6.  -6.  -5.  -5.  -5.  -4.  -4.  -4.\n",
      "  -4.  -4.  -4.  -4.  -3.  -3.  -3.  -3.  -2.  -2.  -2.  -2.  -1.  -1.\n",
      "  -1.  -1.  -1.   0.   1.   1.   1.   2.   2.   2.   2.   2.   3.   3.\n",
      "   3.   4.   4.   4.   5.   5.   6.   7.   7.   8.   8.   9.  10.  11.\n",
      "  13.  14.]\n",
      "the 95% confidnece interval for the difference of estimated median lies between -10.0 to 1.0 with the average median lying at -5.5\n"
     ]
    }
   ],
   "source": [
    "diff = np.sort(diff)\n",
    "# Kth smallest and largest value\n",
    "a = 0.05\n",
    "import scipy.stats as st\n",
    "n = len(group_1)\n",
    "m = len(group_2)\n",
    "k = round(n*m/2 - st.norm.ppf(1-a/2)*(n*m*(n+m+1)/12)**0.5)\n",
    "\n",
    "print(\"the 95% confidnece interval for the difference of estimated median lies between\", diff[k-1], \"to\", diff[-k], \"with the average median lying at\", np.median(diff))"
   ]
  },
  {
   "cell_type": "markdown",
   "metadata": {},
   "source": [
    "### Interpreting the results\n",
    "1. with alpha of 0.05 that is p value of 0.95 we got\n",
    "    1. estimated median diff of -5.5\n",
    "    2. within the range of -10 to 1.0\n",
    "\n",
    "since the difference of median also contains the zero value we are not able to reject null hypothesis that we dont have sufficient evidence to conclude that there is difference"
   ]
  },
  {
   "cell_type": "markdown",
   "metadata": {},
   "source": [
    "Now we need to verify with the package formula but it doesnt give us confidence interval, range as well as estimated median diff"
   ]
  },
  {
   "cell_type": "code",
   "execution_count": 95,
   "metadata": {},
   "outputs": [
    {
     "data": {
      "text/plain": [
       "MannwhitneyuResult(statistic=26.5, pvalue=0.0817535829999502)"
      ]
     },
     "execution_count": 95,
     "metadata": {},
     "output_type": "execute_result"
    }
   ],
   "source": [
    "st.mannwhitneyu(group_1, group_2)"
   ]
  },
  {
   "cell_type": "markdown",
   "metadata": {},
   "source": [
    "### Creating own formula from all above items"
   ]
  },
  {
   "cell_type": "code",
   "execution_count": 96,
   "metadata": {},
   "outputs": [],
   "source": [
    "import numpy as np\n",
    "import scipy.stats as st\n",
    "\n",
    "def Mann_Whitney(a, b, alpha = None):\n",
    "    if alpha is None:\n",
    "        alpha = 0.05\n",
    "    a = np.sort(a)\n",
    "    b = np.sort(b)\n",
    "    diff = np.array([])\n",
    "    for i in a:\n",
    "        for j in b:\n",
    "            diff = np.append(diff, i-j)\n",
    "    diff = np.sort(diff)\n",
    "    # Kth smallest and largest value\n",
    "    n = len(a)\n",
    "    m = len(b)\n",
    "    k = round(n*m/2 - st.norm.ppf(1-alpha/2)*(n*m*(n+m+1)/12)**0.5)\n",
    "    return print(\"The\", 100*(1-alpha),\"%\", \"confidnece interval for the difference of estimated median lies between\", \n",
    "    diff[k-1], \"to\", diff[-k], \"with the average median lying at\", np.median(diff))"
   ]
  },
  {
   "cell_type": "markdown",
   "metadata": {},
   "source": [
    "Now testing our function, you could enterl your alpha ie level of significance, if empty it will take the default value of 0.05 with two tails."
   ]
  },
  {
   "cell_type": "code",
   "execution_count": 97,
   "metadata": {},
   "outputs": [
    {
     "name": "stdout",
     "output_type": "stream",
     "text": [
      "The 95.0 % confidnece interval for the difference of estimated median lies between -10.0 to 1.0 with the average median lying at -5.5\n"
     ]
    }
   ],
   "source": [
    "Mann_Whitney(group_1, group_2)"
   ]
  }
 ],
 "metadata": {
  "interpreter": {
   "hash": "227872fd7638373db33c371d97be9b40a3c2203559e72894ef81c1759e881a0a"
  },
  "kernelspec": {
   "display_name": "Python 3.9.5 64-bit ('base': conda)",
   "language": "python",
   "name": "python3"
  },
  "language_info": {
   "codemirror_mode": {
    "name": "ipython",
    "version": 3
   },
   "file_extension": ".py",
   "mimetype": "text/x-python",
   "name": "python",
   "nbconvert_exporter": "python",
   "pygments_lexer": "ipython3",
   "version": "3.9.5"
  },
  "orig_nbformat": 4
 },
 "nbformat": 4,
 "nbformat_minor": 2
}
